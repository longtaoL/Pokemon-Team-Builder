{
  "nbformat": 4,
  "nbformat_minor": 0,
  "metadata": {
    "colab": {
      "name": "json_to_df.ipynb",
      "provenance": [],
      "collapsed_sections": []
    },
    "kernelspec": {
      "name": "python3",
      "display_name": "Python 3"
    },
    "language_info": {
      "name": "python"
    }
  },
  "cells": [
    {
      "cell_type": "code",
      "execution_count": null,
      "metadata": {
        "id": "55yZDFWVOEDT",
        "colab": {
          "base_uri": "https://localhost:8080/"
        },
        "outputId": "e7c2a991-211b-48a9-cd25-b35eebb980f9"
      },
      "outputs": [
        {
          "output_type": "stream",
          "name": "stdout",
          "text": [
            "Collecting pyspark\n",
            "  Downloading pyspark-3.2.1.tar.gz (281.4 MB)\n",
            "\u001b[K     |████████████████████████████████| 281.4 MB 33 kB/s \n",
            "\u001b[?25hCollecting py4j==0.10.9.3\n",
            "  Downloading py4j-0.10.9.3-py2.py3-none-any.whl (198 kB)\n",
            "\u001b[K     |████████████████████████████████| 198 kB 56.5 MB/s \n",
            "\u001b[?25hBuilding wheels for collected packages: pyspark\n",
            "  Building wheel for pyspark (setup.py) ... \u001b[?25l\u001b[?25hdone\n",
            "  Created wheel for pyspark: filename=pyspark-3.2.1-py2.py3-none-any.whl size=281853642 sha256=eebae6263b434f9bd898f3e66b19c5e5d712149a002c40e3a46d1113ad0fa928\n",
            "  Stored in directory: /root/.cache/pip/wheels/9f/f5/07/7cd8017084dce4e93e84e92efd1e1d5334db05f2e83bcef74f\n",
            "Successfully built pyspark\n",
            "Installing collected packages: py4j, pyspark\n",
            "Successfully installed py4j-0.10.9.3 pyspark-3.2.1\n"
          ]
        }
      ],
      "source": [
        "!pip install pyspark\n",
        "import numpy as np\n",
        "import pandas as pd\n",
        "from mlxtend.frequent_patterns import apriori as apr3, association_rules\n",
        "from pyspark.sql import SparkSession\n",
        "from pyspark.sql import SQLContext\n",
        "spark = SparkSession.builder.getOrCreate()\n",
        "import json"
      ]
    },
    {
      "cell_type": "code",
      "source": [
        "#from google.colab import files\n",
        "#uploaded = files.upload()"
      ],
      "metadata": {
        "colab": {
          "resources": {
            "http://localhost:8080/nbextensions/google.colab/files.js": {
              "data": "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",
              "ok": true,
              "headers": [
                [
                  "content-type",
                  "application/javascript"
                ]
              ],
              "status": 200,
              "status_text": ""
            }
          },
          "base_uri": "https://localhost:8080/",
          "height": 41
        },
        "id": "x6hyRzN3OIkF",
        "outputId": "ea0a0a15-8606-4fb2-e434-86068bcf10bf"
      },
      "execution_count": null,
      "outputs": [
        {
          "output_type": "display_data",
          "data": {
            "text/plain": [
              "<IPython.core.display.HTML object>"
            ],
            "text/html": [
              "\n",
              "     <input type=\"file\" id=\"files-c8b5407d-2b2e-4276-b93e-43d6280bc9ea\" name=\"files[]\" multiple disabled\n",
              "        style=\"border:none\" />\n",
              "     <output id=\"result-c8b5407d-2b2e-4276-b93e-43d6280bc9ea\">\n",
              "      Upload widget is only available when the cell has been executed in the\n",
              "      current browser session. Please rerun this cell to enable.\n",
              "      </output>\n",
              "      <script src=\"/nbextensions/google.colab/files.js\"></script> "
            ]
          },
          "metadata": {}
        }
      ]
    },
    {
      "cell_type": "code",
      "source": [
        "from google.colab import drive\n",
        "drive.mount('/content/drive')\n",
        "f = open('/content/drive/My Drive/pokemonTeamsAll.json', 'r')"
      ],
      "metadata": {
        "colab": {
          "base_uri": "https://localhost:8080/"
        },
        "id": "JzaMsYJJumaZ",
        "outputId": "e4a0a6c3-b0fa-44ea-90d9-4f3545076566"
      },
      "execution_count": null,
      "outputs": [
        {
          "output_type": "stream",
          "name": "stdout",
          "text": [
            "Mounted at /content/drive\n"
          ]
        }
      ]
    },
    {
      "cell_type": "code",
      "source": [
        "# f = open(\"pokemonTeamsAll.json\")\n",
        "data = json.load(f)\n",
        "final_teams = []\n",
        "mons = []\n",
        "for i in range(int(len(data[\"teams\"])/8)):\n",
        "    pokemonArray = data[\"teams\"][i]\n",
        "    for mon in pokemonArray:\n",
        "      if mon not in mons:\n",
        "        mons.append(mon)\n",
        "    final_teams.append(tuple(pokemonArray))\n",
        "    "
      ],
      "metadata": {
        "id": "iysJ-Rih0Mtf"
      },
      "execution_count": null,
      "outputs": []
    },
    {
      "cell_type": "code",
      "source": [
        "nums_of_mons = []\n",
        "for team in final_teams:\n",
        "    mons_there = []\n",
        "    for mon in mons:\n",
        "        if mon in team:\n",
        "            mons_there.append(True)\n",
        "        else:\n",
        "            mons_there.append(False)\n",
        "\n",
        "    nums_of_mons.append(mons_there)\n"
      ],
      "metadata": {
        "id": "UYPyFH5Z0M0g"
      },
      "execution_count": null,
      "outputs": []
    },
    {
      "cell_type": "code",
      "source": [
        "data = np.array(nums_of_mons)\n",
        "processed_data = pd.DataFrame(nums_of_mons, columns=mons)\n",
        "\n",
        "# Building the model\n",
        "frq_items = apr3(processed_data, min_support=0.0001, use_colnames=True)\n"
      ],
      "metadata": {
        "id": "othrX2BF-eRk"
      },
      "execution_count": null,
      "outputs": []
    },
    {
      "cell_type": "code",
      "source": [
        "# Collecting the inferred rules in a dataframe\n",
        "rules = association_rules(frq_items, metric=\"lift\", min_threshold=0.01)\n",
        "rules = rules.sort_values(['confidence', 'lift'], ascending=[False, False])"
      ],
      "metadata": {
        "id": "WwTcLBNfvXKH"
      },
      "execution_count": null,
      "outputs": []
    },
    {
      "cell_type": "code",
      "source": [
        "rules"
      ],
      "metadata": {
        "id": "xZtoq6kkIwVV",
        "colab": {
          "base_uri": "https://localhost:8080/",
          "height": 71
        },
        "outputId": "02f69007-36ba-46eb-af98-e826358a75b5"
      },
      "execution_count": null,
      "outputs": [
        {
          "output_type": "execute_result",
          "data": {
            "text/plain": [
              "                                     antecedents  \\\n",
              "664067           (Zekrom, Obstagoon, Whimsicott)   \n",
              "664086   (Escavalier, Zacian-Crowned, Charizard)   \n",
              "605675          (Reuniclus, Groudon, Indeedee-F)   \n",
              "605682     (Togekiss, Marowak-Alola, Indeedee-F)   \n",
              "610740  (Torkoal, Calyrex-Ice, Mimikyu, Zoroark)   \n",
              "...                                          ...   \n",
              "529947                              (Incineroar)   \n",
              "26123                               (Incineroar)   \n",
              "203152                              (Incineroar)   \n",
              "81078                               (Incineroar)   \n",
              "183901                              (Incineroar)   \n",
              "\n",
              "                                             consequents  antecedent support  \\\n",
              "664067           (Escavalier, Zacian-Crowned, Charizard)            0.000103   \n",
              "664086                   (Zekrom, Obstagoon, Whimsicott)            0.000103   \n",
              "605675            (Calyrex-Ice, Togekiss, Marowak-Alola)            0.000101   \n",
              "605682                 (Calyrex-Ice, Reuniclus, Groudon)            0.000101   \n",
              "610740                            (Trevenant, Eternatus)            0.000109   \n",
              "...                                                  ...                 ...   \n",
              "529947  (Rillaboom, Groudon, Zacian-Crowned, Grimmsnarl)            0.468718   \n",
              "26123                            (Dracovish, Indeedee-F)            0.468718   \n",
              "203152                      (Hitmontop, Mimikyu, Kyogre)            0.468718   \n",
              "81078                                   (Umbreon, Ho-Oh)            0.468718   \n",
              "183901                    (Cinderace, Kyogre, Regieleki)            0.468718   \n",
              "\n",
              "        consequent support   support  confidence         lift  leverage  \\\n",
              "664067            0.000103  0.000103    1.000000  9750.725806  0.000103   \n",
              "664086            0.000103  0.000103    1.000000  9750.725806  0.000103   \n",
              "605675            0.000104  0.000101    1.000000  9595.952381  0.000101   \n",
              "605682            0.000106  0.000101    1.000000  9446.015625  0.000101   \n",
              "610740            0.000109  0.000109    1.000000  9159.772727  0.000109   \n",
              "...                    ...       ...         ...          ...       ...   \n",
              "529947            0.001174  0.000101    0.000215     0.183299 -0.000450   \n",
              "26123             0.001365  0.000101    0.000215     0.157748 -0.000539   \n",
              "203152            0.001416  0.000101    0.000215     0.152035 -0.000563   \n",
              "81078             0.001889  0.000101    0.000215     0.113960 -0.000785   \n",
              "183901            0.003293  0.000101    0.000215     0.065365 -0.001443   \n",
              "\n",
              "        conviction  \n",
              "664067         inf  \n",
              "664086         inf  \n",
              "605675         inf  \n",
              "605682         inf  \n",
              "610740         inf  \n",
              "...            ...  \n",
              "529947    0.999041  \n",
              "26123     0.998850  \n",
              "203152    0.998799  \n",
              "81078     0.998326  \n",
              "183901    0.996921  \n",
              "\n",
              "[666030 rows x 9 columns]"
            ],
            "text/html": [
              "\n",
              "  <div id=\"df-01d49677-0d63-4560-acb7-7b5dbc0d9718\">\n",
              "    <div class=\"colab-df-container\">\n",
              "      <div>\n",
              "<style scoped>\n",
              "    .dataframe tbody tr th:only-of-type {\n",
              "        vertical-align: middle;\n",
              "    }\n",
              "\n",
              "    .dataframe tbody tr th {\n",
              "        vertical-align: top;\n",
              "    }\n",
              "\n",
              "    .dataframe thead th {\n",
              "        text-align: right;\n",
              "    }\n",
              "</style>\n",
              "<table border=\"1\" class=\"dataframe\">\n",
              "  <thead>\n",
              "    <tr style=\"text-align: right;\">\n",
              "      <th></th>\n",
              "      <th>antecedents</th>\n",
              "      <th>consequents</th>\n",
              "      <th>antecedent support</th>\n",
              "      <th>consequent support</th>\n",
              "      <th>support</th>\n",
              "      <th>confidence</th>\n",
              "      <th>lift</th>\n",
              "      <th>leverage</th>\n",
              "      <th>conviction</th>\n",
              "    </tr>\n",
              "  </thead>\n",
              "  <tbody>\n",
              "    <tr>\n",
              "      <th>664067</th>\n",
              "      <td>(Zekrom, Obstagoon, Whimsicott)</td>\n",
              "      <td>(Escavalier, Zacian-Crowned, Charizard)</td>\n",
              "      <td>0.000103</td>\n",
              "      <td>0.000103</td>\n",
              "      <td>0.000103</td>\n",
              "      <td>1.000000</td>\n",
              "      <td>9750.725806</td>\n",
              "      <td>0.000103</td>\n",
              "      <td>inf</td>\n",
              "    </tr>\n",
              "    <tr>\n",
              "      <th>664086</th>\n",
              "      <td>(Escavalier, Zacian-Crowned, Charizard)</td>\n",
              "      <td>(Zekrom, Obstagoon, Whimsicott)</td>\n",
              "      <td>0.000103</td>\n",
              "      <td>0.000103</td>\n",
              "      <td>0.000103</td>\n",
              "      <td>1.000000</td>\n",
              "      <td>9750.725806</td>\n",
              "      <td>0.000103</td>\n",
              "      <td>inf</td>\n",
              "    </tr>\n",
              "    <tr>\n",
              "      <th>605675</th>\n",
              "      <td>(Reuniclus, Groudon, Indeedee-F)</td>\n",
              "      <td>(Calyrex-Ice, Togekiss, Marowak-Alola)</td>\n",
              "      <td>0.000101</td>\n",
              "      <td>0.000104</td>\n",
              "      <td>0.000101</td>\n",
              "      <td>1.000000</td>\n",
              "      <td>9595.952381</td>\n",
              "      <td>0.000101</td>\n",
              "      <td>inf</td>\n",
              "    </tr>\n",
              "    <tr>\n",
              "      <th>605682</th>\n",
              "      <td>(Togekiss, Marowak-Alola, Indeedee-F)</td>\n",
              "      <td>(Calyrex-Ice, Reuniclus, Groudon)</td>\n",
              "      <td>0.000101</td>\n",
              "      <td>0.000106</td>\n",
              "      <td>0.000101</td>\n",
              "      <td>1.000000</td>\n",
              "      <td>9446.015625</td>\n",
              "      <td>0.000101</td>\n",
              "      <td>inf</td>\n",
              "    </tr>\n",
              "    <tr>\n",
              "      <th>610740</th>\n",
              "      <td>(Torkoal, Calyrex-Ice, Mimikyu, Zoroark)</td>\n",
              "      <td>(Trevenant, Eternatus)</td>\n",
              "      <td>0.000109</td>\n",
              "      <td>0.000109</td>\n",
              "      <td>0.000109</td>\n",
              "      <td>1.000000</td>\n",
              "      <td>9159.772727</td>\n",
              "      <td>0.000109</td>\n",
              "      <td>inf</td>\n",
              "    </tr>\n",
              "    <tr>\n",
              "      <th>...</th>\n",
              "      <td>...</td>\n",
              "      <td>...</td>\n",
              "      <td>...</td>\n",
              "      <td>...</td>\n",
              "      <td>...</td>\n",
              "      <td>...</td>\n",
              "      <td>...</td>\n",
              "      <td>...</td>\n",
              "      <td>...</td>\n",
              "    </tr>\n",
              "    <tr>\n",
              "      <th>529947</th>\n",
              "      <td>(Incineroar)</td>\n",
              "      <td>(Rillaboom, Groudon, Zacian-Crowned, Grimmsnarl)</td>\n",
              "      <td>0.468718</td>\n",
              "      <td>0.001174</td>\n",
              "      <td>0.000101</td>\n",
              "      <td>0.000215</td>\n",
              "      <td>0.183299</td>\n",
              "      <td>-0.000450</td>\n",
              "      <td>0.999041</td>\n",
              "    </tr>\n",
              "    <tr>\n",
              "      <th>26123</th>\n",
              "      <td>(Incineroar)</td>\n",
              "      <td>(Dracovish, Indeedee-F)</td>\n",
              "      <td>0.468718</td>\n",
              "      <td>0.001365</td>\n",
              "      <td>0.000101</td>\n",
              "      <td>0.000215</td>\n",
              "      <td>0.157748</td>\n",
              "      <td>-0.000539</td>\n",
              "      <td>0.998850</td>\n",
              "    </tr>\n",
              "    <tr>\n",
              "      <th>203152</th>\n",
              "      <td>(Incineroar)</td>\n",
              "      <td>(Hitmontop, Mimikyu, Kyogre)</td>\n",
              "      <td>0.468718</td>\n",
              "      <td>0.001416</td>\n",
              "      <td>0.000101</td>\n",
              "      <td>0.000215</td>\n",
              "      <td>0.152035</td>\n",
              "      <td>-0.000563</td>\n",
              "      <td>0.998799</td>\n",
              "    </tr>\n",
              "    <tr>\n",
              "      <th>81078</th>\n",
              "      <td>(Incineroar)</td>\n",
              "      <td>(Umbreon, Ho-Oh)</td>\n",
              "      <td>0.468718</td>\n",
              "      <td>0.001889</td>\n",
              "      <td>0.000101</td>\n",
              "      <td>0.000215</td>\n",
              "      <td>0.113960</td>\n",
              "      <td>-0.000785</td>\n",
              "      <td>0.998326</td>\n",
              "    </tr>\n",
              "    <tr>\n",
              "      <th>183901</th>\n",
              "      <td>(Incineroar)</td>\n",
              "      <td>(Cinderace, Kyogre, Regieleki)</td>\n",
              "      <td>0.468718</td>\n",
              "      <td>0.003293</td>\n",
              "      <td>0.000101</td>\n",
              "      <td>0.000215</td>\n",
              "      <td>0.065365</td>\n",
              "      <td>-0.001443</td>\n",
              "      <td>0.996921</td>\n",
              "    </tr>\n",
              "  </tbody>\n",
              "</table>\n",
              "<p>666030 rows × 9 columns</p>\n",
              "</div>\n",
              "      <button class=\"colab-df-convert\" onclick=\"convertToInteractive('df-01d49677-0d63-4560-acb7-7b5dbc0d9718')\"\n",
              "              title=\"Convert this dataframe to an interactive table.\"\n",
              "              style=\"display:none;\">\n",
              "        \n",
              "  <svg xmlns=\"http://www.w3.org/2000/svg\" height=\"24px\"viewBox=\"0 0 24 24\"\n",
              "       width=\"24px\">\n",
              "    <path d=\"M0 0h24v24H0V0z\" fill=\"none\"/>\n",
              "    <path d=\"M18.56 5.44l.94 2.06.94-2.06 2.06-.94-2.06-.94-.94-2.06-.94 2.06-2.06.94zm-11 1L8.5 8.5l.94-2.06 2.06-.94-2.06-.94L8.5 2.5l-.94 2.06-2.06.94zm10 10l.94 2.06.94-2.06 2.06-.94-2.06-.94-.94-2.06-.94 2.06-2.06.94z\"/><path d=\"M17.41 7.96l-1.37-1.37c-.4-.4-.92-.59-1.43-.59-.52 0-1.04.2-1.43.59L10.3 9.45l-7.72 7.72c-.78.78-.78 2.05 0 2.83L4 21.41c.39.39.9.59 1.41.59.51 0 1.02-.2 1.41-.59l7.78-7.78 2.81-2.81c.8-.78.8-2.07 0-2.86zM5.41 20L4 18.59l7.72-7.72 1.47 1.35L5.41 20z\"/>\n",
              "  </svg>\n",
              "      </button>\n",
              "      \n",
              "  <style>\n",
              "    .colab-df-container {\n",
              "      display:flex;\n",
              "      flex-wrap:wrap;\n",
              "      gap: 12px;\n",
              "    }\n",
              "\n",
              "    .colab-df-convert {\n",
              "      background-color: #E8F0FE;\n",
              "      border: none;\n",
              "      border-radius: 50%;\n",
              "      cursor: pointer;\n",
              "      display: none;\n",
              "      fill: #1967D2;\n",
              "      height: 32px;\n",
              "      padding: 0 0 0 0;\n",
              "      width: 32px;\n",
              "    }\n",
              "\n",
              "    .colab-df-convert:hover {\n",
              "      background-color: #E2EBFA;\n",
              "      box-shadow: 0px 1px 2px rgba(60, 64, 67, 0.3), 0px 1px 3px 1px rgba(60, 64, 67, 0.15);\n",
              "      fill: #174EA6;\n",
              "    }\n",
              "\n",
              "    [theme=dark] .colab-df-convert {\n",
              "      background-color: #3B4455;\n",
              "      fill: #D2E3FC;\n",
              "    }\n",
              "\n",
              "    [theme=dark] .colab-df-convert:hover {\n",
              "      background-color: #434B5C;\n",
              "      box-shadow: 0px 1px 3px 1px rgba(0, 0, 0, 0.15);\n",
              "      filter: drop-shadow(0px 1px 2px rgba(0, 0, 0, 0.3));\n",
              "      fill: #FFFFFF;\n",
              "    }\n",
              "  </style>\n",
              "\n",
              "      <script>\n",
              "        const buttonEl =\n",
              "          document.querySelector('#df-01d49677-0d63-4560-acb7-7b5dbc0d9718 button.colab-df-convert');\n",
              "        buttonEl.style.display =\n",
              "          google.colab.kernel.accessAllowed ? 'block' : 'none';\n",
              "\n",
              "        async function convertToInteractive(key) {\n",
              "          const element = document.querySelector('#df-01d49677-0d63-4560-acb7-7b5dbc0d9718');\n",
              "          const dataTable =\n",
              "            await google.colab.kernel.invokeFunction('convertToInteractive',\n",
              "                                                     [key], {});\n",
              "          if (!dataTable) return;\n",
              "\n",
              "          const docLinkHtml = 'Like what you see? Visit the ' +\n",
              "            '<a target=\"_blank\" href=https://colab.research.google.com/notebooks/data_table.ipynb>data table notebook</a>'\n",
              "            + ' to learn more about interactive tables.';\n",
              "          element.innerHTML = '';\n",
              "          dataTable['output_type'] = 'display_data';\n",
              "          await google.colab.output.renderOutput(dataTable, element);\n",
              "          const docLink = document.createElement('div');\n",
              "          docLink.innerHTML = docLinkHtml;\n",
              "          element.appendChild(docLink);\n",
              "        }\n",
              "      </script>\n",
              "    </div>\n",
              "  </div>\n",
              "  "
            ]
          },
          "metadata": {},
          "execution_count": 7
        },
        {
          "output_type": "stream",
          "name": "stdout",
          "text": [
            "Warning: total number of rows (666030) exceeds max_rows (20000). Limiting to first (20000) rows.\n",
            "Warning: total number of rows (666030) exceeds max_rows (20000). Limiting to first (20000) rows.\n"
          ]
        }
      ]
    },
    {
      "cell_type": "code",
      "source": [
        "rules.plot(kind='scatter',x='support', y='lift',color='red')"
      ],
      "metadata": {
        "id": "G7I_m14ICWAI",
        "colab": {
          "base_uri": "https://localhost:8080/",
          "height": 297
        },
        "outputId": "b35a5b28-a3d6-4abe-d2b4-af991e29293c"
      },
      "execution_count": null,
      "outputs": [
        {
          "output_type": "execute_result",
          "data": {
            "text/plain": [
              "<matplotlib.axes._subplots.AxesSubplot at 0x7fbad89fa650>"
            ]
          },
          "metadata": {},
          "execution_count": 8
        },
        {
          "output_type": "display_data",
          "data": {
            "text/plain": [
              "<Figure size 432x288 with 1 Axes>"
            ],
            "image/png": "[encoded data removed]"
          },
          "metadata": {
            "needs_background": "light"
          }
        }
      ]
    },
    {
      "cell_type": "code",
      "source": [
        "rules[\"antecedents\"] = rules[\"antecedents\"].apply(list)\n",
        "rules[\"consequents\"] = rules[\"consequents\"].apply(list)\n",
        "\n",
        "df = spark.createDataFrame(rules)\n",
        "\n",
        "df.createOrReplaceTempView(\"association_rules\")\n",
        "ordered_rules = spark.sql(\"select * from association_rules ORDER BY (confidence,lift) DESC\").createOrReplaceTempView(\"ordered_view\")\n",
        "\n",
        "step_one = \"\"\"\n",
        "          SELECT consequents \n",
        "          FROM ordered_view \n",
        "          WHERE array_contains(antecedents,{pokemon1})\n",
        "              AND cardinality(antecedents) = {arr_size}\n",
        "          ORDER BY (\"confidence\",\"lift\")\n",
        "         \"\"\"\n",
        "step_two = \"\"\"\n",
        "          SELECT consequents \n",
        "          FROM ordered_view \n",
        "          WHERE array_contains(antecedents,{pokemon1})\n",
        "              AND array_contains(antecedents,{pokemon2})\n",
        "              AND cardinality(antecedents) = {arr_size}\n",
        "          ORDER BY (\"confidence\",\"lift\")\n",
        "         \"\"\"\n",
        "step_three = \"\"\"\n",
        "          SELECT consequents \n",
        "          FROM ordered_view \n",
        "          WHERE array_contains(antecedents,{pokemon1})\n",
        "              AND array_contains(antecedents,{pokemon2})\n",
        "              AND array_contains(antecedents,{pokemon3})\n",
        "              AND cardinality(antecedents) = {arr_size}\n",
        "          ORDER BY (\"confidence\",\"lift\")\n",
        "         \"\"\"\n",
        "step_four = \"\"\"\n",
        "          SELECT consequents \n",
        "          FROM ordered_view \n",
        "          WHERE array_contains(antecedents,{pokemon1})\n",
        "              AND array_contains(antecedents,{pokemon2})\n",
        "              AND array_contains(antecedents,{pokemon3})\n",
        "              AND array_contains(antecedents,{pokemon4})\n",
        "              AND cardinality(antecedents) = {arr_size}\n",
        "          ORDER BY (\"confidence\",\"lift\")\n",
        "         \"\"\"\n",
        "step_five = \"\"\"\n",
        "          SELECT consequents \n",
        "          FROM ordered_view \n",
        "          WHERE array_contains(antecedents,{pokemon1})\n",
        "              AND array_contains(antecedents,{pokemon2})\n",
        "              AND array_contains(antecedents,{pokemon3})\n",
        "              AND array_contains(antecedents,{pokemon4})\n",
        "              AND array_contains(antecedents,{pokemon5})\n",
        "              AND cardinality(antecedents) = {arr_size}\n",
        "          ORDER BY (\"confidence\",\"lift\")\n",
        "         \"\"\"\n",
        "\n"
      ],
      "metadata": {
        "colab": {
          "base_uri": "https://localhost:8080/"
        },
        "id": "vj5sO25L4i_l",
        "outputId": "55730d1a-b82f-4de0-f286-939270fe857d"
      },
      "execution_count": 9,
      "outputs": [
        {
          "output_type": "stream",
          "name": "stdout",
          "text": [
            "What are your initial Pokemon? Please separate by comma: Landorus-Therian\n",
            "Based your current team draft, our suggestion is \n",
            "['Zacian-Crowned']\n",
            "Do your want to accept it or try a new suggestion? (accept/reject): accept\n",
            "Your current draft is: \n",
            "['Landorus-Therian', 'Zacian-Crowned']\n",
            "Based your current team draft, our suggestion is \n",
            "['Grimmsnarl']\n",
            "Do your want to accept it or try a new suggestion? (accept/reject): reject\n",
            "Here is another recommendation \n",
            "['Incineroar']\n",
            "Do your want to accept it or try a new suggestion? (accept/reject): accept\n",
            "Your current draft is: \n",
            "['Landorus-Therian', 'Zacian-Crowned', 'Incineroar']\n",
            "Based your current team draft, our suggestion is \n",
            "['Regieleki']\n",
            "Do your want to accept it or try a new suggestion? (accept/reject): accept\n",
            "Your current draft is: \n",
            "['Landorus-Therian', 'Zacian-Crowned', 'Incineroar', 'Regieleki']\n",
            "Based your current team draft, our suggestion is \n",
            "['Yveltal']\n",
            "Do your want to accept it or try a new suggestion? (accept/reject): accept\n",
            "Your current draft is: \n",
            "['Landorus-Therian', 'Zacian-Crowned', 'Incineroar', 'Regieleki', 'Yveltal']\n",
            "Based your current team draft, our suggestion is \n",
            "['Tapu Fini']\n",
            "Do your want to accept it or try a new suggestion? (accept/reject): accept\n",
            "Your current draft is: \n",
            "['Landorus-Therian', 'Zacian-Crowned', 'Incineroar', 'Regieleki', 'Yveltal', 'Tapu Fini']\n"
          ]
        }
      ]
    },
    {
      "cell_type": "code",
      "source": [
        "#build a pokemon team step by step\n",
        "\n",
        "input_pokemon = input(\"What are your initial Pokemon? Please separate by comma: \")\n",
        "final_choices = input_pokemon.split(\",\")\n",
        "\n",
        "#continue running until there are 6 pokemons on the team\n",
        "while(len(final_choices) < 6):\n",
        "  #run the SQL queries in different scenarios\n",
        "  if len(final_choices) == 1:\n",
        "    suggestions = spark.sql(step_one.format(pokemon1='\"%s\"'%final_choices[0],arr_size=len(final_choices))).collect()\n",
        "  elif len(final_choices) == 2:\n",
        "    suggestions = spark.sql(step_two.format(pokemon1='\"%s\"'%final_choices[0],pokemon2='\"%s\"'%final_choices[1],arr_size=len(final_choices))).collect()\n",
        "  elif len(final_choices) == 3:\n",
        "    suggestions = spark.sql(step_three.format(pokemon1='\"%s\"'%final_choices[0],pokemon2='\"%s\"'%final_choices[1],pokemon3='\"%s\"'%final_choices[2],arr_size=len(final_choices))).collect()\n",
        "  elif len(final_choices) == 4:\n",
        "    suggestions = spark.sql(step_four.format(pokemon1='\"%s\"'%final_choices[0],pokemon2='\"%s\"'%final_choices[1],pokemon3='\"%s\"'%final_choices[2],pokemon4='\"%s\"'%final_choices[3],arr_size=len(final_choices))).collect()\n",
        "  elif len(final_choices) == 5:\n",
        "    suggestions = spark.sql(step_five.format(pokemon1='\"%s\"'%final_choices[0],pokemon2='\"%s\"'%final_choices[1],pokemon3='\"%s\"'%final_choices[2],pokemon4='\"%s\"'%final_choices[3],pokemon5='\"%s\"'%final_choices[4],arr_size=len(final_choices))).collect()\n",
        "  cur_index = 0\n",
        "  pick = suggestions[cur_index][0]\n",
        "\n",
        "  #added the accept/reject functionality\n",
        "  print(\"Based your current team draft, our suggestion is \")\n",
        "  print(pick)\n",
        "  decision = input(\"Do your want to accept it or try a new suggestion? (accept/reject): \")\n",
        "  while(decision != \"accept\"):\n",
        "    cur_index += 1\n",
        "    pick = suggestions[cur_index][0]\n",
        "    print(\"Here is another recommendation \")\n",
        "    print(pick)\n",
        "    decision = input(\"Do your want to accept it or try a new suggestion? (accept/reject): \")\n",
        "  #add the recommended pokemon to the team\n",
        "  if len(pick)==1:\n",
        "    final_choices.append(pick[0])\n",
        "  else:\n",
        "    for item in pick:\n",
        "      final_choices.append(item)\n",
        "  print(\"Your current draft is: \")\n",
        "  print(final_choices)"
      ],
      "metadata": {
        "colab": {
          "base_uri": "https://localhost:8080/"
        },
        "id": "pFbwXba67mO_",
        "outputId": "c2808e38-4641-4189-f647-4ed451fae563"
      },
      "execution_count": 12,
      "outputs": [
        {
          "output_type": "stream",
          "name": "stdout",
          "text": [
            "What are your initial Pokemon? Please separate by comma: Landorus-Therian\n",
            "Based your current team draft, our suggestion is \n",
            "['Zacian-Crowned']\n",
            "Do your want to accept it or try a new suggestion? (accept/reject): reject\n",
            "Here is another recommendation \n",
            "['Grimmsnarl']\n",
            "Do your want to accept it or try a new suggestion? (accept/reject): reject\n",
            "Here is another recommendation \n",
            "['Incineroar']\n",
            "Do your want to accept it or try a new suggestion? (accept/reject): reject\n",
            "Here is another recommendation \n",
            "['Kyogre']\n",
            "Do your want to accept it or try a new suggestion? (accept/reject): reject\n",
            "Here is another recommendation \n",
            "['Regieleki']\n",
            "Do your want to accept it or try a new suggestion? (accept/reject): reject\n",
            "Here is another recommendation \n",
            "['Yveltal']\n",
            "Do your want to accept it or try a new suggestion? (accept/reject): reject\n",
            "Here is another recommendation \n",
            "['Rillaboom']\n",
            "Do your want to accept it or try a new suggestion? (accept/reject): reject\n",
            "Here is another recommendation \n",
            "['Zacian-Crowned', 'Grimmsnarl']\n",
            "Do your want to accept it or try a new suggestion? (accept/reject): reject\n",
            "Here is another recommendation \n",
            "['Incineroar', 'Zacian-Crowned']\n",
            "Do your want to accept it or try a new suggestion? (accept/reject): accept\n",
            "Your current draft is: \n",
            "['Landorus-Therian', 'Incineroar', 'Zacian-Crowned']\n",
            "Based your current team draft, our suggestion is \n",
            "['Regieleki']\n",
            "Do your want to accept it or try a new suggestion? (accept/reject): accept\n",
            "Your current draft is: \n",
            "['Landorus-Therian', 'Incineroar', 'Zacian-Crowned', 'Regieleki']\n",
            "Based your current team draft, our suggestion is \n",
            "['Yveltal']\n",
            "Do your want to accept it or try a new suggestion? (accept/reject): accept\n",
            "Your current draft is: \n",
            "['Landorus-Therian', 'Incineroar', 'Zacian-Crowned', 'Regieleki', 'Yveltal']\n",
            "Based your current team draft, our suggestion is \n",
            "['Tapu Fini']\n",
            "Do your want to accept it or try a new suggestion? (accept/reject): reject\n",
            "Here is another recommendation \n",
            "['Amoonguss']\n",
            "Do your want to accept it or try a new suggestion? (accept/reject): accept\n",
            "Your current draft is: \n",
            "['Landorus-Therian', 'Incineroar', 'Zacian-Crowned', 'Regieleki', 'Yveltal', 'Amoonguss']\n"
          ]
        }
      ]
    }
  ]
}